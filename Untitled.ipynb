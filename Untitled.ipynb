{
 "cells": [
  {
   "cell_type": "code",
   "execution_count": 2,
   "metadata": {},
   "outputs": [
    {
     "ename": "SyntaxError",
     "evalue": "invalid syntax (<ipython-input-2-4651933080ad>, line 1)",
     "output_type": "error",
     "traceback": [
      "\u001b[1;36m  File \u001b[1;32m\"<ipython-input-2-4651933080ad>\"\u001b[1;36m, line \u001b[1;32m1\u001b[0m\n\u001b[1;33m    pip install graphviz\u001b[0m\n\u001b[1;37m              ^\u001b[0m\n\u001b[1;31mSyntaxError\u001b[0m\u001b[1;31m:\u001b[0m invalid syntax\n"
     ]
    }
   ],
   "source": [
    "pip install graphviz\n",
    "from graphviz import Digraph\n",
    "dot = Digraph()\n",
    "dot.format = 'svg'\n",
    "dot.graph_attr['bgcolor'] = 'transparent'\n",
    "\n",
    "dot.node_attr={'color':'gray80','fontcolor':'black','style':'rounded','shape':'record'}\n",
    "dot.edge_attr={'color':'gray80','fontcolor':'gray60'}\n",
    "dot.attr('node')\n",
    "dot.node('A','{Coin_change([1,2],3)|2}')\n",
    "dot.node('B','{Coin_change([2],3)|0}')\n",
    "dot.node('C','{Coin_change([1,2],2)|2}')\n",
    "dot.node('D','{Coin_change([],3)|0}')\n",
    "dot.node('E','{Coin_change([2],1)|0}')\n",
    "dot.node('F','{Coin_change([2],2)|1}')\n",
    "dot.node('G','{Coin_change([1,2],1)|1}')\n",
    "dot.node('H','{Coin_change([],1)|0}')\n",
    "dot.node('I','{Coin_change([],2)|0}')\n",
    "dot.node('J','{Coin_change([2],0)|1}')\n",
    "dot.node('K','{Coin_change([2],1)|0}')\n",
    "dot.node('L','{Coin_change([1,2],0)|1}')\n",
    "dot.node('M','{Coin_change([],1)|0}')\n",
    "\n",
    "dot.edge('A','B')\n",
    "dot.edge('A','C')\n",
    "dot.edge('B','D')\n",
    "dot.edge('B','E')\n",
    "dot.edge('C','F')\n",
    "dot.edge('C','G')\n",
    "dot.edge('E','H')\n",
    "dot.edge('F','I')\n",
    "dot.edge('F','J')\n",
    "dot.edge('G','K')\n",
    "dot.edge('G','L')\n",
    "dot.edge('K','M')\n",
    "\n",
    "dot\n"
   ]
  },
  {
   "cell_type": "code",
   "execution_count": null,
   "metadata": {},
   "outputs": [],
   "source": []
  }
 ],
 "metadata": {
  "kernelspec": {
   "display_name": "Python 3",
   "language": "python",
   "name": "python3"
  },
  "language_info": {
   "codemirror_mode": {
    "name": "ipython",
    "version": 3
   },
   "file_extension": ".py",
   "mimetype": "text/x-python",
   "name": "python",
   "nbconvert_exporter": "python",
   "pygments_lexer": "ipython3",
   "version": "3.7.3"
  }
 },
 "nbformat": 4,
 "nbformat_minor": 2
}
